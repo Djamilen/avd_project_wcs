{
 "cells": [
  {
   "cell_type": "code",
   "execution_count": 10,
   "id": "5ecf7255",
   "metadata": {},
   "outputs": [
    {
     "name": "stdout",
     "output_type": "stream",
     "text": [
      "Collecting yt-dlp\n",
      "  Downloading yt_dlp-2025.5.22-py3-none-any.whl.metadata (174 kB)\n",
      "Downloading yt_dlp-2025.5.22-py3-none-any.whl (3.3 MB)\n",
      "   ---------------------------------------- 0.0/3.3 MB ? eta -:--:--\n",
      "   ---------------------- ----------------- 1.8/3.3 MB 11.8 MB/s eta 0:00:01\n",
      "   -------------------------------------- - 3.1/3.3 MB 11.5 MB/s eta 0:00:01\n",
      "   ---------------------------------------- 3.3/3.3 MB 8.3 MB/s eta 0:00:00\n",
      "Installing collected packages: yt-dlp\n",
      "Successfully installed yt-dlp-2025.5.22\n"
     ]
    },
    {
     "name": "stderr",
     "output_type": "stream",
     "text": [
      "\n",
      "[notice] A new release of pip is available: 24.3.1 -> 25.1.1\n",
      "[notice] To update, run: python.exe -m pip install --upgrade pip\n"
     ]
    }
   ],
   "source": [
    "!pip install yt-dlp"
   ]
  },
  {
   "cell_type": "code",
   "execution_count": 6,
   "id": "7e2bbf4a",
   "metadata": {},
   "outputs": [
    {
     "name": "stdout",
     "output_type": "stream",
     "text": [
      "Requirement already satisfied: beautifulsoup4 in c:\\users\\alex\\appdata\\local\\programs\\python\\python313\\lib\\site-packages (4.13.4)\n",
      "Requirement already satisfied: requests in c:\\users\\alex\\appdata\\local\\programs\\python\\python313\\lib\\site-packages (2.32.3)\n",
      "Requirement already satisfied: soupsieve>1.2 in c:\\users\\alex\\appdata\\local\\programs\\python\\python313\\lib\\site-packages (from beautifulsoup4) (2.7)\n",
      "Requirement already satisfied: typing-extensions>=4.0.0 in c:\\users\\alex\\appdata\\local\\programs\\python\\python313\\lib\\site-packages (from beautifulsoup4) (4.13.2)\n",
      "Requirement already satisfied: charset-normalizer<4,>=2 in c:\\users\\alex\\appdata\\local\\programs\\python\\python313\\lib\\site-packages (from requests) (3.4.1)\n",
      "Requirement already satisfied: idna<4,>=2.5 in c:\\users\\alex\\appdata\\local\\programs\\python\\python313\\lib\\site-packages (from requests) (3.10)\n",
      "Requirement already satisfied: urllib3<3,>=1.21.1 in c:\\users\\alex\\appdata\\local\\programs\\python\\python313\\lib\\site-packages (from requests) (2.3.0)\n",
      "Requirement already satisfied: certifi>=2017.4.17 in c:\\users\\alex\\appdata\\local\\programs\\python\\python313\\lib\\site-packages (from requests) (2025.1.31)\n"
     ]
    },
    {
     "name": "stderr",
     "output_type": "stream",
     "text": [
      "\n",
      "[notice] A new release of pip is available: 24.3.1 -> 25.1.1\n",
      "[notice] To update, run: python.exe -m pip install --upgrade pip\n"
     ]
    }
   ],
   "source": [
    "!pip install beautifulsoup4 requests"
   ]
  },
  {
   "cell_type": "code",
   "execution_count": 7,
   "id": "5672927e",
   "metadata": {},
   "outputs": [],
   "source": [
    "import requests\n",
    "from bs4 import BeautifulSoup\n",
    "import urllib.parse\n",
    "\n"
   ]
  },
  {
   "cell_type": "code",
   "execution_count": 11,
   "id": "96be12ee",
   "metadata": {},
   "outputs": [],
   "source": [
    "from yt_dlp import YoutubeDL\n",
    "\n",
    "def tel_yt(urls:list):\n",
    "    ydl_opts = {\n",
    "        \"format\": \"bestvideo+bestaudio\",  # Télécharge la meilleure vidéo et le meilleur audio\n",
    "        \"merge_output_format\": \"mp4\",  # Convertit en MP4 si nécessaire\n",
    "    }\n",
    "    with YoutubeDL(ydl_opts) as ydl:\n",
    "        ydl.download(urls)"
   ]
  },
  {
   "cell_type": "code",
   "execution_count": null,
   "id": "a19fb97b",
   "metadata": {},
   "outputs": [],
   "source": [
    "from yt_dlp import YoutubeDL\n",
    "\n",
    "def scrap_video(movie_title):\n",
    "    #  Options minimales : on ne télécharge pas, on extrait juste le lien\n",
    "    ydl_opts = {\n",
    "        \"quiet\": True,\n",
    "        \"skip_download\": True,\n",
    "        \"extract_flat\": True\n",
    "    }\n",
    "\n",
    "    \n",
    "    query = f\"ytsearch1:{movie_title} bande annonce\" #  Requête : 1er résultat de recherche sur YouTube\n",
    "\n",
    "    with YoutubeDL(ydl_opts) as ydl:\n",
    "        try:\n",
    "            result = ydl.extract_info(query, download=False)\n",
    "            return result[\"entries\"][0][\"url\"]  # ✅ Lien de la première vidéo\n",
    "        except:\n",
    "            return \"Aucune vidéo trouvée\""
   ]
  },
  {
   "cell_type": "code",
   "execution_count": 17,
   "id": "0ee3d4bd",
   "metadata": {},
   "outputs": [
    {
     "data": {
      "text/plain": [
       "'https://www.youtube.com/watch?v=2UEkizpGKDU'"
      ]
     },
     "execution_count": 17,
     "metadata": {},
     "output_type": "execute_result"
    }
   ],
   "source": [
    "scrap_video(\"Avatar 2\")  # Exemple d'utilisation"
   ]
  },
  {
   "cell_type": "code",
   "execution_count": 14,
   "id": "77e7ad7a",
   "metadata": {},
   "outputs": [],
   "source": [
    "from yt_dlp import YoutubeDL\n",
    "\n",
    "def get_trailer_iframe(movie_title):\n",
    "    # Options : on ne télécharge rien, on récupère juste le lien\n",
    "    ydl_opts = {\n",
    "        \"quiet\": True,\n",
    "        \"skip_download\": True,\n",
    "        \"extract_flat\": True\n",
    "    }\n",
    "\n",
    "    # Rechercher la bande annonce du film sur YouTube (1er résultat)\n",
    "    query = f\"ytsearch1:{movie_title} bande annonce\"\n",
    "\n",
    "    try:\n",
    "        with YoutubeDL(ydl_opts) as ydl:\n",
    "            result = ydl.extract_info(query, download=False)\n",
    "            video_url = result[\"entries\"][0][\"url\"]  # Exemple : https://www.youtube.com/watch?v=ABC123\n",
    "\n",
    "            # Extraire l'ID de la vidéo à partir de l'URL\n",
    "            video_id = video_url.split(\"watch?v=\")[-1]\n",
    "\n",
    "            # Créer un bloc HTML <iframe> pour intégrer la vidéo dans une page\n",
    "            return f'<iframe width=\"560\" height=\"315\" src=\"https://www.youtube.com/embed/{video_id}\" frameborder=\"0\" allowfullscreen></iframe>'\n",
    "    except:\n",
    "        return \"<p>Aucune bande annonce trouvée</p>\"\n"
   ]
  },
  {
   "cell_type": "code",
   "execution_count": 18,
   "id": "adbe5b8c",
   "metadata": {},
   "outputs": [
    {
     "data": {
      "text/plain": [
       "'<iframe width=\"560\" height=\"315\" src=\"https://www.youtube.com/embed/8xx91zoASLY\" frameborder=\"0\" allowfullscreen></iframe>'"
      ]
     },
     "execution_count": 18,
     "metadata": {},
     "output_type": "execute_result"
    }
   ],
   "source": [
    "get_trailer_iframe(\"The Matrix\")  # Exemple d'utilisation"
   ]
  },
  {
   "cell_type": "code",
   "execution_count": null,
   "id": "a9661a83",
   "metadata": {},
   "outputs": [],
   "source": []
  }
 ],
 "metadata": {
  "kernelspec": {
   "display_name": "Python 3",
   "language": "python",
   "name": "python3"
  },
  "language_info": {
   "codemirror_mode": {
    "name": "ipython",
    "version": 3
   },
   "file_extension": ".py",
   "mimetype": "text/x-python",
   "name": "python",
   "nbconvert_exporter": "python",
   "pygments_lexer": "ipython3",
   "version": "3.13.2"
  }
 },
 "nbformat": 4,
 "nbformat_minor": 5
}
