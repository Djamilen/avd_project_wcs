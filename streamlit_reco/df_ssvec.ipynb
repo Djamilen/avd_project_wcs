{
 "cells": [
  {
   "cell_type": "code",
   "execution_count": 1,
   "id": "80afd76b",
   "metadata": {},
   "outputs": [],
   "source": [
    "import pandas as pd"
   ]
  },
  {
   "cell_type": "code",
   "execution_count": 3,
   "id": "8292c144",
   "metadata": {},
   "outputs": [],
   "source": [
    "df_fin = pd.read_csv(\"df.csv\")"
   ]
  },
  {
   "cell_type": "code",
   "execution_count": 4,
   "id": "a8580b41",
   "metadata": {},
   "outputs": [],
   "source": [
    "df_sans_vec = df_fin.drop(columns=[\"vecteurs\", \"corpus\"])"
   ]
  },
  {
   "cell_type": "code",
   "execution_count": 5,
   "id": "038cfcde",
   "metadata": {},
   "outputs": [],
   "source": [
    "df_sans_vec.to_csv(\"df_sans_vec.csv\", index=False)"
   ]
  }
 ],
 "metadata": {
  "kernelspec": {
   "display_name": "Python 3",
   "language": "python",
   "name": "python3"
  },
  "language_info": {
   "codemirror_mode": {
    "name": "ipython",
    "version": 3
   },
   "file_extension": ".py",
   "mimetype": "text/x-python",
   "name": "python",
   "nbconvert_exporter": "python",
   "pygments_lexer": "ipython3",
   "version": "3.12.10"
  }
 },
 "nbformat": 4,
 "nbformat_minor": 5
}
